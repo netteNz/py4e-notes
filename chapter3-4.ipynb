{
 "cells": [
  {
   "cell_type": "markdown",
   "id": "91398e3a-4f1c-4b29-a390-08ccb72c914a",
   "metadata": {},
   "source": [
    "A boolean expression is an expression that is either true or false. The following examples use the operator ==, which compares two operands and produces True if they are equal and False otherwise:"
   ]
  },
  {
   "cell_type": "code",
   "execution_count": 3,
   "id": "5c5a8313-7b6d-47ac-9993-078fc05250ff",
   "metadata": {},
   "outputs": [
    {
     "data": {
      "text/plain": [
       "True"
      ]
     },
     "execution_count": 3,
     "metadata": {},
     "output_type": "execute_result"
    }
   ],
   "source": [
    "5 == 5"
   ]
  },
  {
   "cell_type": "code",
   "execution_count": 4,
   "id": "2b4e7f9e-fb96-4a13-8937-889269ac9797",
   "metadata": {},
   "outputs": [
    {
     "data": {
      "text/plain": [
       "False"
      ]
     },
     "execution_count": 4,
     "metadata": {},
     "output_type": "execute_result"
    }
   ],
   "source": [
    "5 == 6"
   ]
  },
  {
   "cell_type": "code",
   "execution_count": 5,
   "id": "0f5000db-b403-4195-a3df-34cab988ae59",
   "metadata": {},
   "outputs": [
    {
     "data": {
      "text/plain": [
       "bool"
      ]
     },
     "execution_count": 5,
     "metadata": {},
     "output_type": "execute_result"
    }
   ],
   "source": [
    "type(True)"
   ]
  },
  {
   "cell_type": "code",
   "execution_count": 6,
   "id": "514391fc-d905-404c-a764-9f17ba2f7640",
   "metadata": {},
   "outputs": [
    {
     "data": {
      "text/plain": [
       "bool"
      ]
     },
     "execution_count": 6,
     "metadata": {},
     "output_type": "execute_result"
    }
   ],
   "source": [
    "type(False)"
   ]
  },
  {
   "cell_type": "code",
   "execution_count": 8,
   "id": "adba3d6c-f340-4911-ab0f-ff9bf896be7d",
   "metadata": {},
   "outputs": [
    {
     "data": {
      "text/plain": [
       "False"
      ]
     },
     "execution_count": 8,
     "metadata": {},
     "output_type": "execute_result"
    }
   ],
   "source": [
    "x = 3\n",
    "y = 3\n",
    "x != y             # x is not equal to y\n",
    "x > y              # x is greater than y\n",
    "x < y              # x is less than y\n",
    "x >= y             # x is greater than or equal to y\n",
    "x <= y             # x is less than or equal to y\n",
    "x is y             # x is the same than y\n",
    "x is not y         # x is not the same as y"
   ]
  },
  {
   "cell_type": "markdown",
   "id": "5810014d-463f-404e-b345-2f65019ce505",
   "metadata": {},
   "source": [
    "There are three logical operators: and, or, and not. The semantics (meaning) of these operators is similar to their meaning in English. For example:\n",
    "```python\n",
    "x > 0 and x < 10\n",
    "```\n",
    "is true only if x id greater than 0 and *less* than 10"
   ]
  },
  {
   "cell_type": "markdown",
   "id": "d2fa17d8-dc4c-4c01-94c1-f6bb8d2d69d6",
   "metadata": {},
   "source": [
    "## 3.3 Conditional Execution\n",
    "In order to write useful programs, we almost always need the ability to check conditions and change the behavior of the program accordingly. Conditional statements give us this ability. The simplest form is the if statement:\n",
    "```python\n",
    "if x > 0:\n",
    "    print('x is positive')\n",
    "```"
   ]
  },
  {
   "cell_type": "markdown",
   "id": "73d7feda-6d8d-4577-bdd7-b7d212d0a79a",
   "metadata": {},
   "source": [
    "![image](https://i.imgur.com/rMZyRvc.png)"
   ]
  },
  {
   "cell_type": "code",
   "execution_count": 10,
   "id": "560322b9-ede1-44b5-bbb5-ce6c2a3467a6",
   "metadata": {},
   "outputs": [
    {
     "name": "stdin",
     "output_type": "stream",
     "text": [
      "Enter Farenheit Temp:  78\n"
     ]
    },
    {
     "name": "stdout",
     "output_type": "stream",
     "text": [
      "25.555555555555557\n"
     ]
    }
   ],
   "source": [
    "inp = input(\"Enter Farenheit Temp: \")\n",
    "fahr = float(inp)\n",
    "cel = (fahr - 32.0) * 5.0 / 9.0\n",
    "print(cel)"
   ]
  },
  {
   "cell_type": "code",
   "execution_count": 11,
   "id": "4115d41f-b88a-48da-9801-c4868b8608db",
   "metadata": {},
   "outputs": [
    {
     "name": "stdin",
     "output_type": "stream",
     "text": [
      "Enter Farenheit Temp:  a\n"
     ]
    },
    {
     "name": "stdout",
     "output_type": "stream",
     "text": [
      "Please enter a number\n"
     ]
    }
   ],
   "source": [
    "inp = input(\"Enter Farenheit Temp: \")\n",
    "try:\n",
    "    fahr = float(inp)\n",
    "    cel = (fahr - 32.0) * 5.0 / 9.0\n",
    "    print(cel)\n",
    "except:\n",
    "    print(\"Please enter a number\")"
   ]
  },
  {
   "cell_type": "code",
   "execution_count": 12,
   "id": "ec338c90-c8aa-404c-802f-fa7e8367b1ef",
   "metadata": {},
   "outputs": [
    {
     "data": {
      "text/plain": [
       "True"
      ]
     },
     "execution_count": 12,
     "metadata": {},
     "output_type": "execute_result"
    }
   ],
   "source": [
    "x = 6\n",
    "y = 2\n",
    "x >= 2 and (x/y) > 2"
   ]
  },
  {
   "cell_type": "code",
   "execution_count": 13,
   "id": "c5aa075d-8a27-4bb7-ac18-d8a8ea2e4873",
   "metadata": {},
   "outputs": [
    {
     "data": {
      "text/plain": [
       "False"
      ]
     },
     "execution_count": 13,
     "metadata": {},
     "output_type": "execute_result"
    }
   ],
   "source": [
    "x = 1\n",
    "y = 0\n",
    "x >= 2 and (x/y) > 2"
   ]
  },
  {
   "cell_type": "code",
   "execution_count": 14,
   "id": "26858f2f-d2da-49f0-bd50-d25d496afe42",
   "metadata": {},
   "outputs": [
    {
     "ename": "ZeroDivisionError",
     "evalue": "division by zero",
     "output_type": "error",
     "traceback": [
      "\u001b[1;31m---------------------------------------------------------------------------\u001b[0m",
      "\u001b[1;31mZeroDivisionError\u001b[0m                         Traceback (most recent call last)",
      "Cell \u001b[1;32mIn[14], line 3\u001b[0m\n\u001b[0;32m      1\u001b[0m x \u001b[38;5;241m=\u001b[39m \u001b[38;5;241m6\u001b[39m\n\u001b[0;32m      2\u001b[0m y \u001b[38;5;241m=\u001b[39m \u001b[38;5;241m0\u001b[39m\n\u001b[1;32m----> 3\u001b[0m x \u001b[38;5;241m>\u001b[39m\u001b[38;5;241m=\u001b[39m \u001b[38;5;241m2\u001b[39m \u001b[38;5;129;01mand\u001b[39;00m (\u001b[43mx\u001b[49m\u001b[38;5;241;43m/\u001b[39;49m\u001b[43my\u001b[49m) \u001b[38;5;241m>\u001b[39m \u001b[38;5;241m2\u001b[39m\n",
      "\u001b[1;31mZeroDivisionError\u001b[0m: division by zero"
     ]
    }
   ],
   "source": [
    "x = 6\n",
    "y = 0\n",
    "x >= 2 and (x/y) > 2"
   ]
  },
  {
   "cell_type": "markdown",
   "id": "db1c8e24-5cfb-4252-9ff5-afd807f748ed",
   "metadata": {},
   "source": [
    "The third calculation failed because Python was evaluating (x/y) and y was zero, which causes a runtime error. But the first and the second examples did not fail because in the first calculation y was non zero and in the second one the first part of these expressions x >= 2 evaluated to False so the (x/y) was not ever executed due to the short-circuit rule and there was no error. We can construct the logical expression to strategically place a guard evaluation just before the evaluation that might cause an error as follows:"
   ]
  },
  {
   "cell_type": "code",
   "execution_count": 15,
   "id": "12ed9a27-c46a-48a3-bb59-e93c1b3440f7",
   "metadata": {},
   "outputs": [
    {
     "data": {
      "text/plain": [
       "False"
      ]
     },
     "execution_count": 15,
     "metadata": {},
     "output_type": "execute_result"
    }
   ],
   "source": [
    "x = 1\n",
    "y = 0\n",
    "x >= 2 and y != 0 and (x/y) > 2"
   ]
  },
  {
   "cell_type": "code",
   "execution_count": 16,
   "id": "e8617ed8-9642-4566-bacb-6c306204be0c",
   "metadata": {},
   "outputs": [
    {
     "name": "stderr",
     "output_type": "stream",
     "text": [
      "<>:3: SyntaxWarning: 'int' object is not callable; perhaps you missed a comma?\n",
      "<>:3: SyntaxWarning: 'int' object is not callable; perhaps you missed a comma?\n",
      "C:\\Users\\Emanuel\\AppData\\Local\\Temp\\ipykernel_35732\\3048425668.py:3: SyntaxWarning: 'int' object is not callable; perhaps you missed a comma?\n",
      "  x >= 2 and y != 0 (x/y) > 2\n"
     ]
    },
    {
     "ename": "ZeroDivisionError",
     "evalue": "division by zero",
     "output_type": "error",
     "traceback": [
      "\u001b[1;31m---------------------------------------------------------------------------\u001b[0m",
      "\u001b[1;31mZeroDivisionError\u001b[0m                         Traceback (most recent call last)",
      "Cell \u001b[1;32mIn[16], line 3\u001b[0m\n\u001b[0;32m      1\u001b[0m x \u001b[38;5;241m=\u001b[39m \u001b[38;5;241m6\u001b[39m\n\u001b[0;32m      2\u001b[0m y \u001b[38;5;241m=\u001b[39m \u001b[38;5;241m0\u001b[39m\n\u001b[1;32m----> 3\u001b[0m x \u001b[38;5;241m>\u001b[39m\u001b[38;5;241m=\u001b[39m \u001b[38;5;241m2\u001b[39m \u001b[38;5;129;01mand\u001b[39;00m y \u001b[38;5;241m!=\u001b[39m \u001b[38;5;241m0\u001b[39m (\u001b[43mx\u001b[49m\u001b[38;5;241;43m/\u001b[39;49m\u001b[43my\u001b[49m) \u001b[38;5;241m>\u001b[39m \u001b[38;5;241m2\u001b[39m\n",
      "\u001b[1;31mZeroDivisionError\u001b[0m: division by zero"
     ]
    }
   ],
   "source": [
    "x = 6\n",
    "y = 0\n",
    "x >= 2 and y != 0 (x/y) > 2"
   ]
  },
  {
   "cell_type": "markdown",
   "id": "0c1c8191-20ae-432c-87ed-4b689b39df96",
   "metadata": {},
   "source": [
    "In the first logical expression, x >= 2 is False so the evaluation stops at the and. In the second logical expression, x >= 2 is True but y != 0 is False so we never reach (x/y). In the third logical expression, the y != 0 is after the (x/y) calculation so the expression fails with an error. In the second expression, we say that y != 0 acts as a guard to insure that we only execute (x/y) if y is non-zero."
   ]
  },
  {
   "cell_type": "markdown",
   "id": "14772c7a-3a79-4646-b472-11fe9ac6264e",
   "metadata": {},
   "source": [
    "## 4.2 Built-in Functions\n",
    "Python provides a number of important built-in functions that we can use without needing to provide the function definition. The creators of Python wrote a set of functions to solve common problems and included them in Python for us to use. The max and min functions give us the largest and smallest values in a list, respectively:"
   ]
  },
  {
   "cell_type": "code",
   "execution_count": 18,
   "id": "8a668362-5a2f-4424-a7fa-c647cb411d4b",
   "metadata": {},
   "outputs": [
    {
     "data": {
      "text/plain": [
       "'w'"
      ]
     },
     "execution_count": 18,
     "metadata": {},
     "output_type": "execute_result"
    }
   ],
   "source": [
    "max(\"Hello world\")"
   ]
  },
  {
   "cell_type": "code",
   "execution_count": 19,
   "id": "e4c89146-7bd2-4099-8eaf-e8a3d1c5f47f",
   "metadata": {},
   "outputs": [
    {
     "data": {
      "text/plain": [
       "' '"
      ]
     },
     "execution_count": 19,
     "metadata": {},
     "output_type": "execute_result"
    }
   ],
   "source": [
    "min(\"Hello world\")"
   ]
  },
  {
   "cell_type": "markdown",
   "id": "f5512c38-d70b-428a-aa90-49e8e1a911aa",
   "metadata": {},
   "source": [
    "The max function tells us the “largest character” in the string (which turns out to be the letter “w”) and the min function shows us the smallest character (which turns out to be a space). Another very common built-in function is the len function which tells us how many items are in its argument. If the argument to len is a string, it returns the number of characters in the string."
   ]
  },
  {
   "cell_type": "code",
   "execution_count": 20,
   "id": "9945e248-4434-4abb-9e05-7269cd2a004e",
   "metadata": {},
   "outputs": [
    {
     "data": {
      "text/plain": [
       "11"
      ]
     },
     "execution_count": 20,
     "metadata": {},
     "output_type": "execute_result"
    }
   ],
   "source": [
    "len(\"Hello world\")"
   ]
  },
  {
   "cell_type": "markdown",
   "id": "aec4b564-c91a-4505-9598-f6d75d039464",
   "metadata": {},
   "source": [
    "## 4.3 Type conversion functions\n",
    "Python also provides built-in functions that convert values from one type to another. The int function takes any value and converts it to an integer, if it can, or complains otherwise:"
   ]
  },
  {
   "cell_type": "code",
   "execution_count": 21,
   "id": "80397c69-ed72-4dd6-8149-41963f5f274e",
   "metadata": {},
   "outputs": [
    {
     "data": {
      "text/plain": [
       "32"
      ]
     },
     "execution_count": 21,
     "metadata": {},
     "output_type": "execute_result"
    }
   ],
   "source": [
    "int('32')"
   ]
  },
  {
   "cell_type": "code",
   "execution_count": 22,
   "id": "5c9de69c-ebbd-4513-a612-0f38595c8783",
   "metadata": {},
   "outputs": [
    {
     "ename": "ValueError",
     "evalue": "invalid literal for int() with base 10: 'hello'",
     "output_type": "error",
     "traceback": [
      "\u001b[1;31m---------------------------------------------------------------------------\u001b[0m",
      "\u001b[1;31mValueError\u001b[0m                                Traceback (most recent call last)",
      "Cell \u001b[1;32mIn[22], line 1\u001b[0m\n\u001b[1;32m----> 1\u001b[0m \u001b[38;5;28;43mint\u001b[39;49m\u001b[43m(\u001b[49m\u001b[38;5;124;43m'\u001b[39;49m\u001b[38;5;124;43mhello\u001b[39;49m\u001b[38;5;124;43m'\u001b[39;49m\u001b[43m)\u001b[49m\n",
      "\u001b[1;31mValueError\u001b[0m: invalid literal for int() with base 10: 'hello'"
     ]
    }
   ],
   "source": [
    "int('hello')"
   ]
  },
  {
   "cell_type": "markdown",
   "id": "a388c09a-f8c2-4eb5-a14c-99c75091a130",
   "metadata": {},
   "source": [
    "int can convert floating-point values to integers, but it doesn’t round off; it chops off the fraction part:"
   ]
  },
  {
   "cell_type": "code",
   "execution_count": 23,
   "id": "f2d2dd79-be7f-49cc-9da1-24dbb11d59ab",
   "metadata": {},
   "outputs": [
    {
     "data": {
      "text/plain": [
       "3"
      ]
     },
     "execution_count": 23,
     "metadata": {},
     "output_type": "execute_result"
    }
   ],
   "source": [
    "int(3.9999)"
   ]
  },
  {
   "cell_type": "code",
   "execution_count": 24,
   "id": "7b8e09bb-720c-4b40-a554-0263a203a5af",
   "metadata": {},
   "outputs": [
    {
     "data": {
      "text/plain": [
       "-2"
      ]
     },
     "execution_count": 24,
     "metadata": {},
     "output_type": "execute_result"
    }
   ],
   "source": [
    "int(-2.3)"
   ]
  },
  {
   "cell_type": "markdown",
   "id": "13bba3a5-3c4b-4b92-88f5-068c9e261738",
   "metadata": {},
   "source": [
    "float converts integers and strings to floating-point numbers:"
   ]
  },
  {
   "cell_type": "code",
   "execution_count": 25,
   "id": "2d1f99bc-6ffb-4737-a09a-dfbe451dc12e",
   "metadata": {},
   "outputs": [
    {
     "data": {
      "text/plain": [
       "32.0"
      ]
     },
     "execution_count": 25,
     "metadata": {},
     "output_type": "execute_result"
    }
   ],
   "source": [
    "float(32)"
   ]
  },
  {
   "cell_type": "code",
   "execution_count": 26,
   "id": "4bcfc213-144e-4d96-bdcf-ce71a6f78752",
   "metadata": {},
   "outputs": [
    {
     "data": {
      "text/plain": [
       "3.14159"
      ]
     },
     "execution_count": 26,
     "metadata": {},
     "output_type": "execute_result"
    }
   ],
   "source": [
    "float('3.14159')"
   ]
  },
  {
   "cell_type": "markdown",
   "id": "9955d95c-8a91-4c58-b2f1-ad9d0b9da95a",
   "metadata": {},
   "source": [
    "## 4.4 Math Functions\n",
    "Python has a math module that provides most of the familiar mathematical functions. Before we can use the module, we have to import it:"
   ]
  },
  {
   "cell_type": "code",
   "execution_count": 27,
   "id": "30a0c471-cb59-44f8-877a-e1dab62dcaec",
   "metadata": {},
   "outputs": [
    {
     "data": {
      "text/plain": [
       "module"
      ]
     },
     "execution_count": 27,
     "metadata": {},
     "output_type": "execute_result"
    }
   ],
   "source": [
    "import math\n",
    "type(math)"
   ]
  },
  {
   "cell_type": "markdown",
   "id": "597ee8ef-9d50-4532-9589-26c8d611cc02",
   "metadata": {},
   "source": [
    "The module object contains the functions and variables defined in the module. To access one of the functions, you have to specify the name of the module and the name of the function, separated by a dot (also known as a period). This format is called dot notation."
   ]
  },
  {
   "cell_type": "code",
   "execution_count": 28,
   "id": "c8e16db1-5ace-465b-8925-f803c4f8ea72",
   "metadata": {},
   "outputs": [
    {
     "ename": "NameError",
     "evalue": "name 'signal_power' is not defined",
     "output_type": "error",
     "traceback": [
      "\u001b[1;31m---------------------------------------------------------------------------\u001b[0m",
      "\u001b[1;31mNameError\u001b[0m                                 Traceback (most recent call last)",
      "Cell \u001b[1;32mIn[28], line 1\u001b[0m\n\u001b[1;32m----> 1\u001b[0m ratio \u001b[38;5;241m=\u001b[39m \u001b[43msignal_power\u001b[49m \u001b[38;5;241m/\u001b[39m noise_power\n\u001b[0;32m      2\u001b[0m decibels \u001b[38;5;241m=\u001b[39m \u001b[38;5;241m10\u001b[39m \u001b[38;5;241m*\u001b[39m math\u001b[38;5;241m.\u001b[39mlog10(ratio)\n\u001b[0;32m      3\u001b[0m radians \u001b[38;5;241m=\u001b[39m \u001b[38;5;241m0.7\u001b[39m\n",
      "\u001b[1;31mNameError\u001b[0m: name 'signal_power' is not defined"
     ]
    }
   ],
   "source": [
    "ratio = signal_power / noise_power\n",
    "decibels = 10 * math.log10(ratio)"
   ]
  },
  {
   "cell_type": "code",
   "execution_count": 29,
   "id": "0f2c2bac-955e-4b7e-bfea-d7f0944aa77a",
   "metadata": {},
   "outputs": [],
   "source": [
    "radians = 0.7\n",
    "height = math.sin(radians)"
   ]
  },
  {
   "cell_type": "code",
   "execution_count": 32,
   "id": "fc654095-9e9d-4ae8-8f3b-f0346a1266ff",
   "metadata": {},
   "outputs": [
    {
     "data": {
      "text/plain": [
       "0.7071067811865476"
      ]
     },
     "execution_count": 32,
     "metadata": {},
     "output_type": "execute_result"
    }
   ],
   "source": [
    "import math\n",
    "\n",
    "degrees = 45\n",
    "radians = degrees / 360.0 * 2 * math.pi\n",
    "math.sin(radians)"
   ]
  },
  {
   "cell_type": "code",
   "execution_count": null,
   "id": "1c0a1a0a-5449-42e1-9418-a6813ce14e10",
   "metadata": {},
   "outputs": [],
   "source": []
  }
 ],
 "metadata": {
  "kernelspec": {
   "display_name": "Python 3 (ipykernel)",
   "language": "python",
   "name": "python3"
  },
  "language_info": {
   "codemirror_mode": {
    "name": "ipython",
    "version": 3
   },
   "file_extension": ".py",
   "mimetype": "text/x-python",
   "name": "python",
   "nbconvert_exporter": "python",
   "pygments_lexer": "ipython3",
   "version": "3.11.8"
  }
 },
 "nbformat": 4,
 "nbformat_minor": 5
}
