{
 "cells": [
  {
   "cell_type": "markdown",
   "id": "6527f522-a19c-499e-b4dd-08e0c4b46a18",
   "metadata": {},
   "source": [
    "# 8.1 A list is a sequence\n",
    "- Like a string, a `list` is a sequence of values. In a string, the values are characters; in a list, they can be any type. The values in lists are called elements or sometimes `items`.\n",
    "- There are several ways to create a new list; the simplest is to enclose the elements in square brackets (“[\" and \"]”):"
   ]
  },
  {
   "cell_type": "code",
   "execution_count": 1,
   "id": "1f4a73c7-1f64-4bf5-97d0-e56600630ada",
   "metadata": {},
   "outputs": [],
   "source": [
    "nums = [10, 20, 30, 40]\n",
    "words = ['crunchy frog', 'ram bladder', 'lark vomit']"
   ]
  },
  {
   "cell_type": "markdown",
   "id": "8300d2bc-2973-47a3-ae2a-0600b31b0858",
   "metadata": {},
   "source": [
    "- The first example is a list of four integers.\n",
    "- The second is a list of three strings.\n",
    "- The elements of a list don’t have to be the same type. The following list contains a string, a float, an integer, and (lo!) another list:\n"
   ]
  },
  {
   "cell_type": "code",
   "execution_count": 2,
   "id": "32f49275-1fb9-49a7-b7e8-262301058171",
   "metadata": {},
   "outputs": [],
   "source": [
    "nested = ['spam', 2.0, 5, [10, 20]]"
   ]
  },
  {
   "cell_type": "markdown",
   "id": "caab4ef9-8443-45d9-8208-6de2bdc7a259",
   "metadata": {},
   "source": [
    "- A list within another list is nested.\n",
    "- A list that contains no elements is called an empty list; you can create one with empty brackets, [].\n",
    "- As you might expect, you can assign list values to variables:"
   ]
  },
  {
   "cell_type": "code",
   "execution_count": 3,
   "id": "1a1cf707-56e1-4d1e-b2b2-9a89a73224c2",
   "metadata": {},
   "outputs": [
    {
     "name": "stdout",
     "output_type": "stream",
     "text": [
      "['Cheddar', 'Edam', 'Gouda'] [17, 123] []\n"
     ]
    }
   ],
   "source": [
    "cheeses = ['Cheddar', 'Edam', 'Gouda']\n",
    "numbers = [17, 123]\n",
    "empty = []\n",
    "print(cheeses, numbers, empty)"
   ]
  },
  {
   "cell_type": "markdown",
   "id": "6521d9fc-8a5f-4666-8ba8-f46865282e0f",
   "metadata": {},
   "source": [
    "## 8.2 Lists are mutable\n",
    "- The syntax for accessing the elements of a list is the same as for accessing the characters of a string: the bracket operator.\n",
    "- The expression inside the brackets specifies the index. Remember that the indices start at 0:"
   ]
  },
  {
   "cell_type": "code",
   "execution_count": 4,
   "id": "6b1a93c2-9f0f-446f-8821-ee019d7b1a18",
   "metadata": {},
   "outputs": [
    {
     "name": "stdout",
     "output_type": "stream",
     "text": [
      "Cheddar\n"
     ]
    }
   ],
   "source": [
    "print(cheeses[0])"
   ]
  },
  {
   "cell_type": "markdown",
   "id": "1b2094fe-2ff7-4e0f-b499-b78e5c1df97b",
   "metadata": {},
   "source": [
    "- Unlike strings, lists are mutable because you can change the order of items in a list or reassign an item in a list.\n",
    "- When the bracket operator appears on the left side of an assignment, it identifies the element of the list that will be assigned."
   ]
  },
  {
   "cell_type": "code",
   "execution_count": 5,
   "id": "b37d3268-20a5-4422-ae09-669ed7fe46ef",
   "metadata": {},
   "outputs": [
    {
     "name": "stdout",
     "output_type": "stream",
     "text": [
      "[17, 5]\n"
     ]
    }
   ],
   "source": [
    "numbers = [17, 123]\n",
    "numbers[1] = 5\n",
    "print(numbers)"
   ]
  },
  {
   "cell_type": "markdown",
   "id": "3505d599-08ce-49bc-ac25-36bf1d874ef6",
   "metadata": {},
   "source": [
    "- The one-th element of numbers, which used to be 123, is now 5.\n",
    "- You can think of a list as a relationship between indices and elements.\n",
    "- This relationship is called a *mapping*; each index “maps to” one of the elements.\n",
    "- Any integer expression can be used as an index.\n",
    "- If you try to read or write an element that does not exist, you get an IndexError.\n",
    "- If an index has a negative value, it counts backward from the end of the list.\n",
    "- The `in` operator also works on lists."
   ]
  },
  {
   "cell_type": "code",
   "execution_count": 7,
   "id": "d68f4faa-2277-43c3-a654-2311bbc907ff",
   "metadata": {},
   "outputs": [
    {
     "data": {
      "text/plain": [
       "True"
      ]
     },
     "execution_count": 7,
     "metadata": {},
     "output_type": "execute_result"
    }
   ],
   "source": [
    "cheeses = ['Cheddar', 'Edam', 'Gouda']\n",
    "'Edam' in cheeses"
   ]
  },
  {
   "cell_type": "markdown",
   "id": "d8d51ef4-18ca-4698-b2b2-d0e0abb41ea6",
   "metadata": {},
   "source": [
    "# 8.3 List Traversal\n",
    "- The most common way to traverse the elements of a list is with a for loop. The syntax is the same as for strings:"
   ]
  },
  {
   "cell_type": "code",
   "execution_count": 8,
   "id": "daac2a91-d782-4e24-b88f-f0faf316c333",
   "metadata": {},
   "outputs": [
    {
     "name": "stdout",
     "output_type": "stream",
     "text": [
      "Cheddar\n",
      "Edam\n",
      "Gouda\n"
     ]
    }
   ],
   "source": [
    "for cheese in cheeses:\n",
    "    print(cheese)"
   ]
  },
  {
   "cell_type": "markdown",
   "id": "2f281e03-657a-4431-82b4-03037ea5ade4",
   "metadata": {},
   "source": [
    "- This works well if you only need to read the elements of the list. But if you want to write or update the elements, you need the indices.\n",
    "- A common way to do that is to combine the functions `range` and `len`:"
   ]
  },
  {
   "cell_type": "code",
   "execution_count": 10,
   "id": "816c59fc-e280-42fe-8393-c469a4b6f9b5",
   "metadata": {},
   "outputs": [
    {
     "name": "stdout",
     "output_type": "stream",
     "text": [
      "[6, 4, 6, 7, 12, 34]\n",
      "[6, 8, 6, 7, 12, 34]\n",
      "[6, 8, 12, 7, 12, 34]\n",
      "[6, 8, 12, 14, 12, 34]\n",
      "[6, 8, 12, 14, 24, 34]\n",
      "[6, 8, 12, 14, 24, 68]\n"
     ]
    }
   ],
   "source": [
    "numbers = [3, 4, 6, 7, 12, 34]\n",
    "for i in range(len(numbers)):\n",
    "    numbers[i] = numbers[i] * 2\n",
    "    print(numbers)"
   ]
  },
  {
   "cell_type": "markdown",
   "id": "b9b8645f-92cc-4bb4-b659-cbfdc47cbf1a",
   "metadata": {},
   "source": [
    "# 8.4 Lists operations\n",
    "- The + operator concatenates lists"
   ]
  },
  {
   "cell_type": "code",
   "execution_count": 11,
   "id": "f780ab44-b6e7-4db6-80ac-52414ce5776e",
   "metadata": {},
   "outputs": [
    {
     "name": "stdout",
     "output_type": "stream",
     "text": [
      "[1, 2, 3, 4, 5, 6]\n"
     ]
    }
   ],
   "source": [
    "a = [1, 2, 3]\n",
    "b = [4, 5, 6]\n",
    "c = a + b\n",
    "print(c)"
   ]
  },
  {
   "cell_type": "markdown",
   "id": "81a6ad92-a82f-4d50-98ef-7245492cdaed",
   "metadata": {},
   "source": [
    "- Similarly the * operator repeats a list a given number of times"
   ]
  },
  {
   "cell_type": "code",
   "execution_count": 12,
   "id": "d5dc5674-afd2-42fb-b70b-9f99fe22ee2c",
   "metadata": {},
   "outputs": [
    {
     "data": {
      "text/plain": [
       "[0, 0, 0, 0]"
      ]
     },
     "execution_count": 12,
     "metadata": {},
     "output_type": "execute_result"
    }
   ],
   "source": [
    "[0] * 4"
   ]
  },
  {
   "cell_type": "code",
   "execution_count": 13,
   "id": "d78edfa5-4007-4360-b0bc-45d3f700fd2e",
   "metadata": {},
   "outputs": [
    {
     "data": {
      "text/plain": [
       "[1, 2, 3, 1, 2, 3, 1, 2, 3]"
      ]
     },
     "execution_count": 13,
     "metadata": {},
     "output_type": "execute_result"
    }
   ],
   "source": [
    "[1, 2, 3] * 3"
   ]
  },
  {
   "cell_type": "markdown",
   "id": "577e0e2b-2b30-4f01-8de2-5de28225ccb6",
   "metadata": {},
   "source": [
    "# 8.5 List slices"
   ]
  },
  {
   "cell_type": "code",
   "execution_count": 14,
   "id": "4805822c-f962-4529-9839-5a309e815370",
   "metadata": {},
   "outputs": [
    {
     "data": {
      "text/plain": [
       "['b', 'c']"
      ]
     },
     "execution_count": 14,
     "metadata": {},
     "output_type": "execute_result"
    }
   ],
   "source": [
    "t = ['a', 'b', 'c', 'd', 'e', 'f']\n",
    "t[1:3]"
   ]
  },
  {
   "cell_type": "code",
   "execution_count": 15,
   "id": "19a63537-18d5-409b-99e7-05ca0e1dbca4",
   "metadata": {},
   "outputs": [
    {
     "data": {
      "text/plain": [
       "['a', 'b', 'c', 'd']"
      ]
     },
     "execution_count": 15,
     "metadata": {},
     "output_type": "execute_result"
    }
   ],
   "source": [
    "t[:4]"
   ]
  },
  {
   "cell_type": "code",
   "execution_count": 16,
   "id": "4bfa1f18-fe10-44bd-b670-31ec39e9ee57",
   "metadata": {},
   "outputs": [
    {
     "data": {
      "text/plain": [
       "['d', 'e', 'f']"
      ]
     },
     "execution_count": 16,
     "metadata": {},
     "output_type": "execute_result"
    }
   ],
   "source": [
    "t[3:]"
   ]
  },
  {
   "cell_type": "markdown",
   "id": "bf76a682-8025-4221-9ea8-69d7351f9afa",
   "metadata": {},
   "source": [
    "- If you omit the first index, the slice starts at the beginning.\n",
    "- If you omit the second, the slice goes to the end. So if you omit both, the slice is a copy of the whole list.\n",
    "- Since lists are mutable, it is often useful to make a copy before performing operations that fold, spindle, or mutilate lists.\n",
    "- A slice operator on the left side of an assignment can update multiple elements:"
   ]
  },
  {
   "cell_type": "code",
   "execution_count": 17,
   "id": "7ef79724-da64-4c6f-a9ec-4fa372f2e4fe",
   "metadata": {},
   "outputs": [
    {
     "name": "stdout",
     "output_type": "stream",
     "text": [
      "['a', 'x', 'y', 'd', 'e', 'f']\n"
     ]
    }
   ],
   "source": [
    "t = ['a', 'b', 'c', 'd', 'e', 'f']\n",
    "t[1:3] = ['x', 'y']\n",
    "print(t)"
   ]
  },
  {
   "cell_type": "markdown",
   "id": "39d9bf26-e056-48a2-be79-32a51d1a40a7",
   "metadata": {},
   "source": [
    "# 8.6 List methods\n",
    "- Python provides methods that operate on lists. For example, append adds **a new element to the end of a list**:"
   ]
  },
  {
   "cell_type": "code",
   "execution_count": 18,
   "id": "aab6cdf1-42cc-4320-a22c-768e5443600d",
   "metadata": {},
   "outputs": [
    {
     "name": "stdout",
     "output_type": "stream",
     "text": [
      "['a', 'b', 'c', 'd']\n"
     ]
    }
   ],
   "source": [
    "t = ['a', 'b', 'c']\n",
    "t.append('d')\n",
    "print(t)"
   ]
  },
  {
   "cell_type": "markdown",
   "id": "334367d5-10b7-43a4-a26b-016e756cb0a8",
   "metadata": {},
   "source": [
    "- `extend` takes a list as an argument and appends all of the elements:"
   ]
  },
  {
   "cell_type": "code",
   "execution_count": 20,
   "id": "81a50de6-c5fd-4490-a55b-7a1d5f2c7531",
   "metadata": {},
   "outputs": [
    {
     "name": "stdout",
     "output_type": "stream",
     "text": [
      "['a', 'b', 'c', 'd', 'e']\n"
     ]
    }
   ],
   "source": [
    "t1 = ['a', 'b', 'c']\n",
    "t2 = ['d', 'e']\n",
    "t1.extend(t2)\n",
    "print(t1)"
   ]
  },
  {
   "cell_type": "markdown",
   "id": "990cccc9-7515-478f-895c-70bb97e540d3",
   "metadata": {},
   "source": [
    "- This example leaves t2 unmodified.\n",
    "- `sort` arranges the elements of the list from low to high."
   ]
  },
  {
   "cell_type": "code",
   "execution_count": 21,
   "id": "b444cb40-4064-416e-ad36-9cd27d2c9b72",
   "metadata": {},
   "outputs": [
    {
     "name": "stdout",
     "output_type": "stream",
     "text": [
      "['a', 'b', 'c', 'd', 'e']\n"
     ]
    }
   ],
   "source": [
    "t = ['d', 'c', 'e', 'b', 'a']\n",
    "t.sort()\n",
    "print(t)"
   ]
  },
  {
   "cell_type": "markdown",
   "id": "1b86cdac-8510-4cec-924a-7c7149cd9595",
   "metadata": {},
   "source": [
    "## 8.7 Deleting elements\n",
    "- There are several ways to delete elements from a list. If you know the index of the element you want, you can use `pop`"
   ]
  },
  {
   "cell_type": "code",
   "execution_count": 22,
   "id": "ea7c2a58-9eb4-4c81-869b-c88fad301d05",
   "metadata": {},
   "outputs": [
    {
     "name": "stdout",
     "output_type": "stream",
     "text": [
      "['a', 'c']\n"
     ]
    }
   ],
   "source": [
    "t = ['a', 'b', 'c']\n",
    "x = t.pop(1)\n",
    "print(t)"
   ]
  },
  {
   "cell_type": "code",
   "execution_count": 23,
   "id": "03c39ec1-2835-41d0-a1f2-d21574ce2b88",
   "metadata": {},
   "outputs": [
    {
     "name": "stdout",
     "output_type": "stream",
     "text": [
      "b\n"
     ]
    }
   ],
   "source": [
    "print(x)"
   ]
  },
  {
   "cell_type": "markdown",
   "id": "457532e3-8235-40d4-826e-47e4d4647aad",
   "metadata": {},
   "source": [
    "- `pop` modifies the list and returns the element that was removed. \n",
    "- If you don’t provide an index, it deletes and returns the last element.\n",
    "- If you don’t need the removed value, you can use the `del` statement:"
   ]
  },
  {
   "cell_type": "code",
   "execution_count": 24,
   "id": "70c46cc4-0b46-4d9f-aea3-1bae469b9fdb",
   "metadata": {},
   "outputs": [
    {
     "name": "stdout",
     "output_type": "stream",
     "text": [
      "['a', 'c']\n"
     ]
    }
   ],
   "source": [
    "t = ['a', 'b', 'c']\n",
    "del t[1]\n",
    "print(t)"
   ]
  },
  {
   "cell_type": "markdown",
   "id": "0cd9d585-e142-46d9-ad85-85e2f0b33d43",
   "metadata": {},
   "source": [
    "If you know the element you want to remove (but not the index), you can use `remove`:"
   ]
  },
  {
   "cell_type": "code",
   "execution_count": 25,
   "id": "20cc2323-4f02-4020-abd3-624cffde7fc3",
   "metadata": {},
   "outputs": [
    {
     "name": "stdout",
     "output_type": "stream",
     "text": [
      "['a', 'c']\n"
     ]
    }
   ],
   "source": [
    "t = ['a', 'b', 'c']\n",
    "t.remove('b')\n",
    "print(t)"
   ]
  },
  {
   "cell_type": "markdown",
   "id": "4b752f6c-160d-478e-b6cc-3c3deb84a370",
   "metadata": {},
   "source": [
    "## 8.8 Lists and functions\n",
    "- There are a number of built-in functions that can be used on lists that allow you to quickly look through a list without writing your own loops:"
   ]
  },
  {
   "cell_type": "code",
   "execution_count": 31,
   "id": "09537fd8-a0b0-488c-8902-d3c840013c29",
   "metadata": {},
   "outputs": [
    {
     "name": "stdout",
     "output_type": "stream",
     "text": [
      "6\n",
      "74\n",
      "3\n",
      "154\n",
      "25\n"
     ]
    }
   ],
   "source": [
    "nums = [3, 41, 12, 9, 74, 15]\n",
    "print(len(nums))\n",
    "print(max(nums))\n",
    "print(min(nums))\n",
    "print(sum(nums))\n",
    "print(sum(nums) // len(nums))"
   ]
  },
  {
   "cell_type": "code",
   "execution_count": 32,
   "id": "4d2e088e-2d5c-4afa-a310-6da1fd418c09",
   "metadata": {},
   "outputs": [
    {
     "name": "stdin",
     "output_type": "stream",
     "text": [
      "Enter a number:  2\n",
      "Enter a number:  3\n",
      "Enter a number:  5\n",
      "Enter a number:  6\n",
      "Enter a number:  4\n",
      "Enter a number:  3\n",
      "Enter a number:  done\n"
     ]
    },
    {
     "name": "stdout",
     "output_type": "stream",
     "text": [
      "Average:  3.8333333333333335\n"
     ]
    }
   ],
   "source": [
    "# Wecould rewrite an earlier program that computed the average of a list of numbers entered by the user using a list.\n",
    "# First, the program to compute an average without a list:\n",
    "total = 0\n",
    "count = 0\n",
    "while True:\n",
    "    inp = input('Enter a number: ')\n",
    "    if inp == 'done': \n",
    "        break\n",
    "    value = float(inp)\n",
    "    total = total + value\n",
    "    count = count + 1\n",
    "average = total / count\n",
    "print('Average: ', average)"
   ]
  },
  {
   "cell_type": "code",
   "execution_count": null,
   "id": "c38b990f-688c-4fe1-a02a-fb9650ec9dbe",
   "metadata": {},
   "outputs": [],
   "source": []
  }
 ],
 "metadata": {
  "kernelspec": {
   "display_name": "Python 3 (ipykernel)",
   "language": "python",
   "name": "python3"
  },
  "language_info": {
   "codemirror_mode": {
    "name": "ipython",
    "version": 3
   },
   "file_extension": ".py",
   "mimetype": "text/x-python",
   "name": "python",
   "nbconvert_exporter": "python",
   "pygments_lexer": "ipython3",
   "version": "3.11.8"
  }
 },
 "nbformat": 4,
 "nbformat_minor": 5
}
