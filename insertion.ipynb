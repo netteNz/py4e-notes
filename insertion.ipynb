{
 "cells": [
  {
   "cell_type": "markdown",
   "id": "80cfc776-8ad6-455a-a1d8-37d87199a5af",
   "metadata": {},
   "source": [
    "# Diving into Algos\n",
    "## Chapter 4 - Insertion Sort \n",
    "```python\n",
    "cabinet = [1, 2, 3, 3, 4, 6, 8, 12] # filing cabinet\n",
    "```\n",
    "- We proceed one at a time through every number in the list (every file in the cabinet). We’ll define a variable called `check_location`. As advertised, it will store the location in the cabinet that we want to check. We start at the **back of the cabinet**.\n",
    "```python\n",
    "to_insert = 5 # define a the \"file\" or the number to be inserted\n",
    "\n",
    "check_location = len(cabinet) - 1 # variable to store the location that we want to check starting at the end\n",
    "```\n",
    "- We’ll also define a variable called `insert_location`. The goal of our algorithm is to determine the proper value of `insert_location`, and then it’s a simple matter of inserting the file at the `insert_location`. We’ll start out by assuming the `insert_location` is 0.\n",
    "```python\n",
    "insert_location = 0 # insertion\n",
    "```\n",
    "- We can use a simple `if` statement to check whether the file to insert is higher than the file at the `check_location`.\n",
    "\n",
    "```python\n",
    "if to_insert > cabinet[check_location]:\n",
    "    insert_location = check_location + 1\n",
    "```\n",
    "- As soon as we encounter a number that’s lower than the number to insert, we use its location to decide where to insert our new number.\n",
    "- We add 1 because our insertion takes place just behind the lower number we found.\n",
    "\n",
    "- After we know the right `insert_location`, we can use a built-in Python method for list manipulation called insert to put the file into the cabinet.\n",
    "\n",
    "```python\n",
    "cabinet.insert(insert_location, to_insert)\n",
    "```"
   ]
  },
  {
   "cell_type": "code",
   "execution_count": 9,
   "id": "98328305-8a77-45fd-9375-f86f49090f07",
   "metadata": {},
   "outputs": [
    {
     "name": "stdout",
     "output_type": "stream",
     "text": [
      "[5, 5, 1, 2, 3, 3, 5, 4, 6, 8, 12]\n"
     ]
    }
   ],
   "source": [
    "def insert_cabinet(cabinet, to_insert):\n",
    "    check_location = len(cabinet) - 1\n",
    "    insert_location = 0\n",
    "    while check_location >= 0:\n",
    "        if to_insert > cabinet[check_location]:\n",
    "            insert_location = check_location + 1\n",
    "            check_location = - 1\n",
    "        check_location = check_location - 1\n",
    "        cabinet.insert(insert_location, to_insert)\n",
    "    return cabinet\n",
    "\n",
    "cabinet = [1, 2, 3, 3, 4, 6, 8, 12] # filing cabinet\n",
    "to_insert = 5\n",
    "newcabinet = insert_cabinet(cabinet, 5)\n",
    "print(newcabinet)"
   ]
  },
  {
   "cell_type": "code",
   "execution_count": null,
   "id": "2cae28e6-1eaa-4002-87d2-627a9e57c2b8",
   "metadata": {},
   "outputs": [],
   "source": []
  }
 ],
 "metadata": {
  "kernelspec": {
   "display_name": "Python 3 (ipykernel)",
   "language": "python",
   "name": "python3"
  },
  "language_info": {
   "codemirror_mode": {
    "name": "ipython",
    "version": 3
   },
   "file_extension": ".py",
   "mimetype": "text/x-python",
   "name": "python",
   "nbconvert_exporter": "python",
   "pygments_lexer": "ipython3",
   "version": "3.11.8"
  }
 },
 "nbformat": 4,
 "nbformat_minor": 5
}
