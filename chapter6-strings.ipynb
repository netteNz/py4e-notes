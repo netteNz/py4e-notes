{
 "cells": [
  {
   "cell_type": "markdown",
   "id": "8e639e82-9b96-4a6a-bdf9-a03d1c081b79",
   "metadata": {},
   "source": [
    "# Strings\n",
    "## 6.2 A string is a sequence\n",
    "- A string is a sequence of characters, you can access the characters one at a time with the bracket operator"
   ]
  },
  {
   "cell_type": "code",
   "execution_count": 2,
   "id": "41699e65-f9df-4908-87cf-0a73b8d90167",
   "metadata": {},
   "outputs": [
    {
     "name": "stdout",
     "output_type": "stream",
     "text": [
      "a\n"
     ]
    }
   ],
   "source": [
    "fruit = 'banana'\n",
    "letter = fruit[1]\n",
    "print(letter)"
   ]
  },
  {
   "cell_type": "markdown",
   "id": "7f6515b2-6a98-4e89-8111-406cf1642b62",
   "metadata": {},
   "source": [
    "- For most people, the first letter of “banana” is “b”, not “a”. But in Python, the index is an offset from the beginning of the string, and the offset of the first letter is zero."
   ]
  },
  {
   "cell_type": "code",
   "execution_count": 3,
   "id": "bb30c1e4-145b-4f82-a208-e27d51e287d4",
   "metadata": {},
   "outputs": [
    {
     "name": "stdout",
     "output_type": "stream",
     "text": [
      "b\n"
     ]
    }
   ],
   "source": [
    "fruit = 'banana'\n",
    "letter = fruit[0]\n",
    "print(letter)"
   ]
  },
  {
   "cell_type": "markdown",
   "id": "ddfbbbc8-4692-4cf2-981a-941c64f52656",
   "metadata": {},
   "source": [
    "![image](https://imgur.com/ttpPB4h.png)"
   ]
  },
  {
   "cell_type": "markdown",
   "id": "1933bf3c-2917-4f40-bdda-82720f0d3e07",
   "metadata": {},
   "source": [
    "## 6.2 Getting the length of a string using `len`"
   ]
  },
  {
   "cell_type": "code",
   "execution_count": 4,
   "id": "b4138563-976d-4805-aeea-913513bcbf6c",
   "metadata": {},
   "outputs": [
    {
     "data": {
      "text/plain": [
       "6"
      ]
     },
     "execution_count": 4,
     "metadata": {},
     "output_type": "execute_result"
    }
   ],
   "source": [
    "fruit = 'banana'\n",
    "len(fruit)"
   ]
  },
  {
   "cell_type": "code",
   "execution_count": 5,
   "id": "d0fcfa28-a3fc-421a-a97f-1164c7ef4b7b",
   "metadata": {},
   "outputs": [
    {
     "name": "stdout",
     "output_type": "stream",
     "text": [
      "a\n"
     ]
    }
   ],
   "source": [
    "# to get the last character, you have to substract 1 from the length\n",
    "length = len(fruit)\n",
    "last = fruit[length - 1]\n",
    "print(last)"
   ]
  },
  {
   "cell_type": "markdown",
   "id": "0fc6605c-f5f2-4b44-9db6-332e8b82c014",
   "metadata": {},
   "source": [
    "## 6.3 Traversal through a string with a loop\n",
    "- A lot of computations involve processing a string one character at a time. Often they start at the beginning, select each character in turn, do something to it, and continue until the end. This pattern of processing is called a traversal. One way to write a traversal is with a while loop"
   ]
  },
  {
   "cell_type": "code",
   "execution_count": 7,
   "id": "f5eafa20-edfc-404d-9740-445bc0624625",
   "metadata": {},
   "outputs": [
    {
     "name": "stdout",
     "output_type": "stream",
     "text": [
      "b\n",
      "a\n",
      "n\n",
      "a\n",
      "n\n",
      "a\n"
     ]
    }
   ],
   "source": [
    "fruit = 'banana'\n",
    "index = 0\n",
    "while index > len(fruit):\n",
    "    letter = fruit[index]\n",
    "    print(letter)\n",
    "    index = index + 1\n",
    "\n",
    "for char in fruit:\n",
    "    print(char)"
   ]
  },
  {
   "cell_type": "markdown",
   "id": "d2aa6a66-f824-48a2-8bd3-a52b25819261",
   "metadata": {},
   "source": [
    "## 6.4 String slicing\n",
    "- Segment of a string is called a slice, selecting a slice is similar to selecting a character"
   ]
  },
  {
   "cell_type": "code",
   "execution_count": 9,
   "id": "3c97e9af-ca4a-4061-8695-e5d49863bb47",
   "metadata": {},
   "outputs": [
    {
     "name": "stdout",
     "output_type": "stream",
     "text": [
      "Monty\n",
      "Python\n"
     ]
    }
   ],
   "source": [
    "s = 'Monty Python'\n",
    "print(s[0:5])\n",
    "print(s[6:12])"
   ]
  },
  {
   "cell_type": "markdown",
   "id": "88ce4352-1c78-48ff-bab6-afbadf16781e",
   "metadata": {},
   "source": [
    "- The operator [n:m] returns the part of the string from the “n-th” character to the “m-th” character, including the first but excluding the last.\n",
    "- If you omit the first index (before the colon), the slice starts at the beginning of the string. If you omit the second index, the slice goes to the end of the string:"
   ]
  },
  {
   "cell_type": "code",
   "execution_count": 10,
   "id": "75153510-014a-41dc-8424-399ed2636c87",
   "metadata": {},
   "outputs": [
    {
     "data": {
      "text/plain": [
       "'ban'"
      ]
     },
     "execution_count": 10,
     "metadata": {},
     "output_type": "execute_result"
    }
   ],
   "source": [
    "fruit = 'banana'\n",
    "fruit[:3]"
   ]
  },
  {
   "cell_type": "code",
   "execution_count": 11,
   "id": "c90ac3df-8540-4097-b8e9-29d10f79cd4c",
   "metadata": {},
   "outputs": [
    {
     "data": {
      "text/plain": [
       "'ana'"
      ]
     },
     "execution_count": 11,
     "metadata": {},
     "output_type": "execute_result"
    }
   ],
   "source": [
    "fruit[3:]"
   ]
  },
  {
   "cell_type": "code",
   "execution_count": 12,
   "id": "439e85f0-c10b-4d58-bba9-b7088d60406a",
   "metadata": {},
   "outputs": [
    {
     "name": "stdout",
     "output_type": "stream",
     "text": [
      "3\n"
     ]
    }
   ],
   "source": [
    "word = 'banana'\n",
    "count = 0\n",
    "for letter in word:\n",
    "    if letter == 'a':\n",
    "        count += 1\n",
    "print(count)"
   ]
  },
  {
   "cell_type": "code",
   "execution_count": 15,
   "id": "af6fad7e-630f-4db7-9eaa-e0c50a2d8942",
   "metadata": {},
   "outputs": [
    {
     "data": {
      "text/plain": [
       "True"
      ]
     },
     "execution_count": 15,
     "metadata": {},
     "output_type": "execute_result"
    }
   ],
   "source": [
    "# the 'in' operator\n",
    "'a' in 'banana'"
   ]
  },
  {
   "cell_type": "code",
   "execution_count": 16,
   "id": "e89229f9-abe3-438c-8a59-1e4de2ff4166",
   "metadata": {},
   "outputs": [
    {
     "data": {
      "text/plain": [
       "False"
      ]
     },
     "execution_count": 16,
     "metadata": {},
     "output_type": "execute_result"
    }
   ],
   "source": [
    "'seed' in 'banana'"
   ]
  },
  {
   "cell_type": "code",
   "execution_count": 17,
   "id": "fec4c235-4b4b-4f87-93c5-d31e3bcab8d5",
   "metadata": {},
   "outputs": [
    {
     "name": "stdout",
     "output_type": "stream",
     "text": [
      "All right, bananas\n"
     ]
    }
   ],
   "source": [
    "word = 'banana'\n",
    "if word == 'banana':\n",
    "    print('All right, bananas')"
   ]
  },
  {
   "cell_type": "markdown",
   "id": "eb16187d-30ea-478f-9a51-1c79af4f9478",
   "metadata": {},
   "source": [
    "### Other comparison operations are useful for putting words in alphabetical order:"
   ]
  },
  {
   "cell_type": "code",
   "execution_count": 22,
   "id": "c3dc49d6-7e16-4c9e-b5e2-31b70cf3b61d",
   "metadata": {},
   "outputs": [
    {
     "name": "stdout",
     "output_type": "stream",
     "text": [
      "Your word, apple, comes before banana\n"
     ]
    }
   ],
   "source": [
    "word = 'apple'\n",
    "if word < 'banana':\n",
    "    print('Your word, ' + word + ', comes before banana')\n",
    "elif word > 'banana':\n",
    "    print('Your word, ' + word + ', comes after banana')\n",
    "else:\n",
    "    print('All right, bananas.')"
   ]
  },
  {
   "cell_type": "markdown",
   "id": "9818ab75-f2bc-4c4b-a9e3-e0e578be560b",
   "metadata": {},
   "source": [
    "## 6.9 String methods\n",
    "- Strings are an example of Python *objects*. An object contains both data (the actual string itself) and *methods*, which are effectively functions that are built into the object and are available to any *instance* of the object.\n",
    "- Python has a function called `dir` which lists the methods available for an object. The `type` function shows the type of an object and the `dir` function shows the available methods."
   ]
  },
  {
   "cell_type": "code",
   "execution_count": 23,
   "id": "22a71953-071d-48c0-a112-2c97c4b863ca",
   "metadata": {},
   "outputs": [
    {
     "data": {
      "text/plain": [
       "str"
      ]
     },
     "execution_count": 23,
     "metadata": {},
     "output_type": "execute_result"
    }
   ],
   "source": [
    "stuff = 'Hello World'\n",
    "type(stuff)"
   ]
  },
  {
   "cell_type": "code",
   "execution_count": 24,
   "id": "319b72e7-6edf-44a9-a84a-27f721e88d19",
   "metadata": {},
   "outputs": [
    {
     "data": {
      "text/plain": [
       "['__add__',\n",
       " '__class__',\n",
       " '__contains__',\n",
       " '__delattr__',\n",
       " '__dir__',\n",
       " '__doc__',\n",
       " '__eq__',\n",
       " '__format__',\n",
       " '__ge__',\n",
       " '__getattribute__',\n",
       " '__getitem__',\n",
       " '__getnewargs__',\n",
       " '__getstate__',\n",
       " '__gt__',\n",
       " '__hash__',\n",
       " '__init__',\n",
       " '__init_subclass__',\n",
       " '__iter__',\n",
       " '__le__',\n",
       " '__len__',\n",
       " '__lt__',\n",
       " '__mod__',\n",
       " '__mul__',\n",
       " '__ne__',\n",
       " '__new__',\n",
       " '__reduce__',\n",
       " '__reduce_ex__',\n",
       " '__repr__',\n",
       " '__rmod__',\n",
       " '__rmul__',\n",
       " '__setattr__',\n",
       " '__sizeof__',\n",
       " '__str__',\n",
       " '__subclasshook__',\n",
       " 'capitalize',\n",
       " 'casefold',\n",
       " 'center',\n",
       " 'count',\n",
       " 'encode',\n",
       " 'endswith',\n",
       " 'expandtabs',\n",
       " 'find',\n",
       " 'format',\n",
       " 'format_map',\n",
       " 'index',\n",
       " 'isalnum',\n",
       " 'isalpha',\n",
       " 'isascii',\n",
       " 'isdecimal',\n",
       " 'isdigit',\n",
       " 'isidentifier',\n",
       " 'islower',\n",
       " 'isnumeric',\n",
       " 'isprintable',\n",
       " 'isspace',\n",
       " 'istitle',\n",
       " 'isupper',\n",
       " 'join',\n",
       " 'ljust',\n",
       " 'lower',\n",
       " 'lstrip',\n",
       " 'maketrans',\n",
       " 'partition',\n",
       " 'removeprefix',\n",
       " 'removesuffix',\n",
       " 'replace',\n",
       " 'rfind',\n",
       " 'rindex',\n",
       " 'rjust',\n",
       " 'rpartition',\n",
       " 'rsplit',\n",
       " 'rstrip',\n",
       " 'split',\n",
       " 'splitlines',\n",
       " 'startswith',\n",
       " 'strip',\n",
       " 'swapcase',\n",
       " 'title',\n",
       " 'translate',\n",
       " 'upper',\n",
       " 'zfill']"
      ]
     },
     "execution_count": 24,
     "metadata": {},
     "output_type": "execute_result"
    }
   ],
   "source": [
    "dir(stuff)"
   ]
  },
  {
   "cell_type": "code",
   "execution_count": 25,
   "id": "af8ed35f-bc1b-4619-bc51-836d60249dd2",
   "metadata": {},
   "outputs": [
    {
     "name": "stdout",
     "output_type": "stream",
     "text": [
      "Help on method_descriptor:\n",
      "\n",
      "capitalize(self, /)\n",
      "    Return a capitalized version of the string.\n",
      "    \n",
      "    More specifically, make the first character have upper case and the rest lower\n",
      "    case.\n",
      "\n"
     ]
    }
   ],
   "source": [
    "help(str.capitalize)"
   ]
  },
  {
   "cell_type": "code",
   "execution_count": 27,
   "id": "a8633c06-afe7-4e77-9fd4-03f57ba0da27",
   "metadata": {},
   "outputs": [
    {
     "name": "stdout",
     "output_type": "stream",
     "text": [
      "BANANA\n"
     ]
    }
   ],
   "source": [
    "word = 'banana'\n",
    "new_word = word.upper()\n",
    "print(new_word)"
   ]
  },
  {
   "cell_type": "code",
   "execution_count": null,
   "id": "92b35306-312c-4af3-992c-00b44a914d77",
   "metadata": {},
   "outputs": [],
   "source": []
  }
 ],
 "metadata": {
  "kernelspec": {
   "display_name": "Python 3 (ipykernel)",
   "language": "python",
   "name": "python3"
  },
  "language_info": {
   "codemirror_mode": {
    "name": "ipython",
    "version": 3
   },
   "file_extension": ".py",
   "mimetype": "text/x-python",
   "name": "python",
   "nbconvert_exporter": "python",
   "pygments_lexer": "ipython3",
   "version": "3.11.8"
  }
 },
 "nbformat": 4,
 "nbformat_minor": 5
}
