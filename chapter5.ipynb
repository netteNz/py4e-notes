{
 "cells": [
  {
   "cell_type": "code",
   "execution_count": 1,
   "id": "a348e933-8018-4c71-be24-ef11c56dc18f",
   "metadata": {
    "editable": true,
    "slideshow": {
     "slide_type": ""
    },
    "tags": []
   },
   "outputs": [
    {
     "name": "stdout",
     "output_type": "stream",
     "text": [
      "5\n",
      "4\n",
      "3\n",
      "2\n",
      "1\n",
      "Blastoff!\n"
     ]
    }
   ],
   "source": [
    "n = 5\n",
    "while n > 0:\n",
    "    print(n)\n",
    "    n -= 1\n",
    "print(\"Blastoff!\")"
   ]
  },
  {
   "cell_type": "code",
   "execution_count": 2,
   "id": "611bd1b2-1e2f-4444-b325-4e4091ad24a0",
   "metadata": {
    "editable": true,
    "slideshow": {
     "slide_type": ""
    },
    "tags": []
   },
   "outputs": [
    {
     "name": "stdin",
     "output_type": "stream",
     "text": [
      ">  lol\n"
     ]
    },
    {
     "name": "stdout",
     "output_type": "stream",
     "text": [
      "lol\n"
     ]
    },
    {
     "name": "stdin",
     "output_type": "stream",
     "text": [
      ">  done\n"
     ]
    },
    {
     "name": "stdout",
     "output_type": "stream",
     "text": [
      "Done!\n"
     ]
    }
   ],
   "source": [
    "while True:\n",
    "    line = input('> ')\n",
    "    if line == 'done':\n",
    "        break\n",
    "    print(line)\n",
    "print('Done!')"
   ]
  },
  {
   "cell_type": "code",
   "execution_count": 3,
   "id": "e6e501a1-50c1-4c81-aa76-39ae51633e0c",
   "metadata": {},
   "outputs": [
    {
     "name": "stdin",
     "output_type": "stream",
     "text": [
      ">  # dont print this lol\n",
      ">  but this yes\n"
     ]
    },
    {
     "name": "stdout",
     "output_type": "stream",
     "text": [
      "but this yes\n"
     ]
    },
    {
     "name": "stdin",
     "output_type": "stream",
     "text": [
      ">  # wow\n",
      ">  done\n"
     ]
    },
    {
     "name": "stdout",
     "output_type": "stream",
     "text": [
      "Done!\n"
     ]
    }
   ],
   "source": [
    "while True:\n",
    "    line = input('> ')\n",
    "    if line[0] == '#':\n",
    "        continue\n",
    "    if line == 'done':\n",
    "        break\n",
    "    print(line)\n",
    "print('Done!')"
   ]
  },
  {
   "cell_type": "code",
   "execution_count": 4,
   "id": "72deb0f6-9021-4c3e-a81f-e2a1bdd0be62",
   "metadata": {},
   "outputs": [
    {
     "name": "stdout",
     "output_type": "stream",
     "text": [
      "Count:  6\n"
     ]
    }
   ],
   "source": [
    "count = 0\n",
    "for iterval in [3, 41, 12, 9, 74, 15]:\n",
    "    count += 1\n",
    "print('Count: ', count)"
   ]
  },
  {
   "cell_type": "code",
   "execution_count": 5,
   "id": "21b2b18a-7c43-443f-ad51-933a3b93e44a",
   "metadata": {},
   "outputs": [
    {
     "name": "stdout",
     "output_type": "stream",
     "text": [
      "Total:  154\n"
     ]
    }
   ],
   "source": [
    "total = 0\n",
    "for iterval in [3, 41, 12, 9, 74, 15]:\n",
    "    total = total + iterval\n",
    "print('Total: ', total)"
   ]
  },
  {
   "cell_type": "markdown",
   "id": "f39b34e5-a5be-478b-9799-62d4e8666143",
   "metadata": {},
   "source": [
    "### 5.6.2 Maximum and minimum loops\n",
    "To find the largest value in a list or sequence, we construct the following loop."
   ]
  },
  {
   "cell_type": "code",
   "execution_count": 6,
   "id": "4931a153-ab7a-4b78-8609-d4b808e3967f",
   "metadata": {},
   "outputs": [
    {
     "name": "stdout",
     "output_type": "stream",
     "text": [
      "Before:  None\n",
      "Loop:  3 3\n",
      "Loop:  41 41\n",
      "Loop:  12 41\n",
      "Loop:  9 41\n",
      "Loop:  74 74\n",
      "Loop:  15 74\n",
      "Largest:  74\n"
     ]
    }
   ],
   "source": [
    "largest = None\n",
    "print('Before: ', largest)\n",
    "for itervar in [3, 41, 12, 9, 74, 15]:\n",
    "    if largest is None or itervar > largest:\n",
    "        largest = itervar\n",
    "    print('Loop: ', itervar, largest)\n",
    "print('Largest: ', largest)"
   ]
  },
  {
   "cell_type": "markdown",
   "id": "98ff0848-7c49-42fb-a363-94bb49b93a5f",
   "metadata": {},
   "source": [
    "### To compute the smallest number, the code is very similar with one small change:"
   ]
  },
  {
   "cell_type": "code",
   "execution_count": 7,
   "id": "72061519-517a-490f-9ffe-2e2ef12856ca",
   "metadata": {},
   "outputs": [
    {
     "name": "stdout",
     "output_type": "stream",
     "text": [
      "Before:  None\n",
      "Loop:  3 3\n",
      "Loop:  41 3\n",
      "Loop:  12 3\n",
      "Loop:  9 3\n",
      "Loop:  74 3\n",
      "Loop:  15 3\n",
      "Smallest:  3\n"
     ]
    }
   ],
   "source": [
    "smallest = None\n",
    "print('Before: ', smallest)\n",
    "for itervar in [3, 41, 12, 9, 74, 15]:\n",
    "    if smallest is None or itervar < smallest:\n",
    "        smallest = itervar\n",
    "    print('Loop: ', itervar, smallest)\n",
    "print('Smallest: ', smallest)"
   ]
  },
  {
   "cell_type": "code",
   "execution_count": 11,
   "id": "5b269a19-c750-4825-9acb-4b6ab1455ce0",
   "metadata": {},
   "outputs": [
    {
     "name": "stdout",
     "output_type": "stream",
     "text": [
      "0 0\n",
      "0 1\n",
      "0 2\n",
      "1 0\n",
      "1 1\n",
      "1 2\n",
      "2 0\n",
      "2 1\n",
      "2 2\n",
      "[2, 2]\n"
     ]
    }
   ],
   "source": [
    "mat = [[3,7,8],[9,11,13],[15,16,17]]\n",
    "new_mat = []\n",
    "for i in range(len(mat)):\n",
    "            for j in range(len(mat[0])):\n",
    "                print(i,j)\n",
    "new_mat.append(i)\n",
    "new_mat.append(j)\n",
    "print(new_mat)"
   ]
  },
  {
   "cell_type": "code",
   "execution_count": null,
   "id": "fefeffab-f8ed-4225-93dd-fcc83585fb77",
   "metadata": {},
   "outputs": [],
   "source": []
  }
 ],
 "metadata": {
  "kernelspec": {
   "display_name": "Python 3 (ipykernel)",
   "language": "python",
   "name": "python3"
  },
  "language_info": {
   "codemirror_mode": {
    "name": "ipython",
    "version": 3
   },
   "file_extension": ".py",
   "mimetype": "text/x-python",
   "name": "python",
   "nbconvert_exporter": "python",
   "pygments_lexer": "ipython3",
   "version": "3.11.8"
  }
 },
 "nbformat": 4,
 "nbformat_minor": 5
}
